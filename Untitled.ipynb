{
 "cells": [
  {
   "cell_type": "code",
   "execution_count": 1,
   "metadata": {},
   "outputs": [],
   "source": [
    "import os\n",
    "os.chdir('training_ptr_gen')\n",
    "os.environ['TF_CPP_MIN_LOG_LEVEL'] = '3'"
   ]
  },
  {
   "cell_type": "code",
   "execution_count": 2,
   "metadata": {},
   "outputs": [
    {
     "name": "stdout",
     "output_type": "stream",
     "text": [
      "/Users/rowancassius/Desktop/pointer_summarizer-master/training_ptr_gen\r\n"
     ]
    }
   ],
   "source": [
    "!pwd"
   ]
  },
  {
   "cell_type": "code",
   "execution_count": 3,
   "metadata": {},
   "outputs": [
    {
     "name": "stderr",
     "output_type": "stream",
     "text": [
      "Using TensorFlow backend.\n"
     ]
    }
   ],
   "source": [
    "import os\n",
    "import importlib\n",
    "import warnings\n",
    "warnings.filterwarnings('ignore')\n",
    "\n",
    "import numpy as np\n",
    "import pandas as pd\n",
    "from sklearn.model_selection import train_test_split\n",
    "\n",
    "import tensorflow as tf\n",
    "import tensorflow.keras.backend as K\n",
    "\n",
    "from keras.preprocessing.text import Tokenizer\n",
    "from keras.preprocessing.sequence import pad_sequences\n",
    "\n",
    "from flair.embeddings import WordEmbeddings"
   ]
  },
  {
   "cell_type": "code",
   "execution_count": 4,
   "metadata": {},
   "outputs": [
    {
     "data": {
      "text/plain": [
       "<module 'training_ptr_gen.model' from '/Users/rowancassius/Desktop/pointer_summarizer-master/training_ptr_gen/model.py'>"
      ]
     },
     "execution_count": 4,
     "metadata": {},
     "output_type": "execute_result"
    }
   ],
   "source": [
    "import train\n",
    "from training_ptr_gen import train, model\n",
    "import data_util.data\n",
    "from data_util import data\n",
    "from data_util import config, utils\n",
    "from training_ptr_gen import decode\n",
    "\n",
    "importlib.reload(decode)\n",
    "importlib.reload(data_util.data)\n",
    "importlib.reload(data_util.batcher)\n",
    "from data_util.data import *\n",
    "importlib.reload(config)\n",
    "importlib.reload(train)\n",
    "importlib.reload(utils)\n",
    "importlib.reload(config)\n",
    "importlib.reload(model)"
   ]
  },
  {
   "cell_type": "code",
   "execution_count": 5,
   "metadata": {},
   "outputs": [
    {
     "data": {
      "text/plain": [
       "25"
      ]
     },
     "execution_count": 5,
     "metadata": {},
     "output_type": "execute_result"
    }
   ],
   "source": [
    "config.max_enc_steps"
   ]
  },
  {
   "cell_type": "code",
   "execution_count": 6,
   "metadata": {},
   "outputs": [],
   "source": [
    "# load \n",
    "data_path = '/Users/rowancassius/Desktop/capstone/data/context_task_trim.tsv'\n",
    "dat = pd.read_csv(data_path, sep='\\t')\n"
   ]
  },
  {
   "cell_type": "code",
   "execution_count": 7,
   "metadata": {},
   "outputs": [],
   "source": [
    "# test/train split\n",
    "x_train, x_test, y_train, y_test = train_test_split(\n",
    "    dat.TaskSentence.values, \n",
    "    dat.Summary.values,\n",
    "    test_size=0.2,\n",
    "    random_state=0,\n",
    "    shuffle=True\n",
    ")"
   ]
  },
  {
   "cell_type": "code",
   "execution_count": 8,
   "metadata": {},
   "outputs": [],
   "source": [
    "# fit tokenizer\n",
    "tokenizer = Tokenizer()\n",
    "tokenizer.fit_on_texts(list(x_train)+list(y_train))\n",
    "V = len(tokenizer.word_index)\n",
    "# tokenizer.sequences_to_texts(tokenizer.texts_to_sequences(texts=x_train))\n",
    "config.vocab_size = V"
   ]
  },
  {
   "cell_type": "code",
   "execution_count": 9,
   "metadata": {},
   "outputs": [
    {
     "data": {
      "text/plain": [
       "1546"
      ]
     },
     "execution_count": 9,
     "metadata": {},
     "output_type": "execute_result"
    }
   ],
   "source": [
    "V"
   ]
  },
  {
   "cell_type": "code",
   "execution_count": 10,
   "metadata": {},
   "outputs": [],
   "source": [
    "# Make vocab file for the batcher\n",
    "with open('enron_vocab.txt', 'w') as f:\n",
    "    for w in tokenizer.word_index.items():\n",
    "        f.write(w[0] + ', ' + str(w[1]) +'\\n')"
   ]
  },
  {
   "cell_type": "code",
   "execution_count": 11,
   "metadata": {},
   "outputs": [],
   "source": [
    "# Make a data file for the generator\n",
    "with open('data_file.txt', 'w') as f:\n",
    "    for x,y in zip(x_train, y_train):\n",
    "        f.write(x +'\\t'+y+'\\n')"
   ]
  },
  {
   "cell_type": "code",
   "execution_count": 12,
   "metadata": {},
   "outputs": [
    {
     "name": "stdout",
     "output_type": "stream",
     "text": [
      "max_size of vocab was specified as 1546; we now have 1546 words. Stopping reading.\n",
      "Finished constructing vocabulary of 1546 total words. Last word added: loi,\n"
     ]
    }
   ],
   "source": [
    "enron_vocab = data.Vocab(vocab_file='enron_vocab.txt', max_size=V)\n",
    "data_file = 'data_file.txt'\n",
    "batch_size = 10\n",
    "mode = 'train'\n",
    "single_pass = True"
   ]
  },
  {
   "cell_type": "code",
   "execution_count": 13,
   "metadata": {},
   "outputs": [],
   "source": [
    "import data_util.batcher\n",
    "import data_util.batcher"
   ]
  },
  {
   "cell_type": "code",
   "execution_count": 14,
   "metadata": {},
   "outputs": [],
   "source": [
    "importlib.reload(data_util.batcher)\n",
    "importlib.reload(data_util.data)\n",
    "importlib.reload(train)\n",
    "from data_util import data\n",
    "from data_util import batcher"
   ]
  },
  {
   "cell_type": "code",
   "execution_count": 15,
   "metadata": {},
   "outputs": [
    {
     "name": "stdout",
     "output_type": "stream",
     "text": [
      "max_size of vocab was specified as 1546; we now have 1546 words. Stopping reading.\n",
      "Finished constructing vocabulary of 1546 total words. Last word added: loi,\n",
      "INFO:tensorflow:Bucket queue size: 1, Input queue size: 335\n"
     ]
    }
   ],
   "source": [
    "trainer = train.Train()"
   ]
  },
  {
   "cell_type": "code",
   "execution_count": 16,
   "metadata": {},
   "outputs": [
    {
     "name": "stdout",
     "output_type": "stream",
     "text": [
      "torch.Size([32, 1546])\n",
      "torch.Size([32, 1546])\n",
      "steps 2, seconds for 2 batch: 0.34 , loss: 7.723883\n",
      "torch.Size([32, 1546])\n",
      "torch.Size([32, 1546])\n",
      "steps 4, seconds for 2 batch: 0.30 , loss: 6.930456\n",
      "torch.Size([32, 1546])\n",
      "torch.Size([32, 1546])\n",
      "steps 6, seconds for 2 batch: 0.27 , loss: 1.512119\n",
      "torch.Size([32, 1546])\n",
      "torch.Size([32, 1546])\n",
      "steps 8, seconds for 2 batch: 0.27 , loss: 0.024511\n",
      "torch.Size([32, 1546])\n",
      "torch.Size([32, 1546])\n",
      "steps 10, seconds for 2 batch: 0.32 , loss: 0.004467\n",
      "torch.Size([32, 1546])\n",
      "torch.Size([32, 1546])\n",
      "steps 12, seconds for 2 batch: 0.24 , loss: 0.013619\n",
      "torch.Size([32, 1546])\n",
      "torch.Size([32, 1546])\n",
      "steps 14, seconds for 2 batch: 0.28 , loss: 0.002919\n",
      "torch.Size([32, 1546])\n",
      "torch.Size([32, 1546])\n",
      "steps 16, seconds for 2 batch: 0.35 , loss: 0.001690\n",
      "torch.Size([32, 1546])\n",
      "torch.Size([32, 1546])\n",
      "steps 18, seconds for 2 batch: 0.33 , loss: 0.003588\n",
      "torch.Size([32, 1546])\n",
      "torch.Size([32, 1546])\n",
      "steps 20, seconds for 2 batch: 0.25 , loss: 0.008658\n",
      "torch.Size([32, 1546])\n",
      "torch.Size([32, 1546])\n",
      "steps 22, seconds for 2 batch: 0.39 , loss: 0.003206\n",
      "torch.Size([32, 1546])\n",
      "torch.Size([32, 1546])\n",
      "steps 24, seconds for 2 batch: 0.23 , loss: 0.007960\n",
      "torch.Size([32, 1546])\n",
      "torch.Size([32, 1546])\n",
      "steps 26, seconds for 2 batch: 0.31 , loss: 0.002044\n",
      "torch.Size([32, 1546])\n",
      "torch.Size([32, 1546])\n",
      "steps 28, seconds for 2 batch: 0.40 , loss: 0.000602\n",
      "torch.Size([32, 1546])\n",
      "torch.Size([32, 1546])\n",
      "steps 30, seconds for 2 batch: 0.27 , loss: 0.001330\n",
      "torch.Size([32, 1546])\n",
      "torch.Size([32, 1546])\n",
      "steps 32, seconds for 2 batch: 0.28 , loss: 0.000687\n",
      "torch.Size([32, 1546])\n",
      "torch.Size([32, 1546])\n",
      "steps 34, seconds for 2 batch: 0.27 , loss: 0.001789\n",
      "torch.Size([32, 1546])\n",
      "torch.Size([32, 1546])\n",
      "steps 36, seconds for 2 batch: 0.24 , loss: 0.001096\n",
      "torch.Size([32, 1546])\n",
      "torch.Size([32, 1546])\n",
      "steps 38, seconds for 2 batch: 0.26 , loss: 0.006409\n",
      "torch.Size([32, 1546])\n",
      "torch.Size([32, 1546])\n",
      "steps 40, seconds for 2 batch: 0.28 , loss: 0.001746\n",
      "torch.Size([32, 1546])\n",
      "torch.Size([32, 1546])\n",
      "steps 42, seconds for 2 batch: 0.28 , loss: 0.000375\n",
      "torch.Size([32, 1546])\n",
      "torch.Size([32, 1546])\n",
      "steps 44, seconds for 2 batch: 0.38 , loss: 0.000509\n",
      "torch.Size([32, 1546])\n",
      "torch.Size([32, 1546])\n",
      "steps 46, seconds for 2 batch: 0.34 , loss: 0.000950\n",
      "torch.Size([32, 1546])\n",
      "torch.Size([32, 1546])\n",
      "steps 48, seconds for 2 batch: 0.30 , loss: 0.000743\n",
      "torch.Size([32, 1546])\n",
      "torch.Size([32, 1546])\n",
      "steps 50, seconds for 2 batch: 0.28 , loss: 0.004066\n",
      "torch.Size([32, 1546])\n",
      "torch.Size([32, 1546])\n",
      "steps 52, seconds for 2 batch: 0.32 , loss: 0.001168\n",
      "torch.Size([32, 1546])\n",
      "torch.Size([32, 1546])\n",
      "steps 54, seconds for 2 batch: 0.35 , loss: 0.000355\n",
      "torch.Size([32, 1546])\n",
      "torch.Size([32, 1546])\n",
      "steps 56, seconds for 2 batch: 0.30 , loss: 0.000357\n",
      "torch.Size([32, 1546])\n",
      "torch.Size([32, 1546])\n",
      "steps 58, seconds for 2 batch: 0.37 , loss: 0.004029\n",
      "torch.Size([32, 1546])\n",
      "torch.Size([32, 1546])\n",
      "steps 60, seconds for 2 batch: 0.36 , loss: 0.000536\n",
      "torch.Size([32, 1546])\n",
      "torch.Size([32, 1546])\n",
      "steps 62, seconds for 2 batch: 0.31 , loss: 0.003087\n",
      "torch.Size([32, 1546])\n",
      "torch.Size([32, 1546])\n",
      "steps 64, seconds for 2 batch: 0.32 , loss: 0.000096\n",
      "torch.Size([32, 1546])\n",
      "torch.Size([32, 1546])\n",
      "steps 66, seconds for 2 batch: 0.27 , loss: 0.000275\n",
      "torch.Size([32, 1546])\n",
      "torch.Size([32, 1546])\n",
      "steps 68, seconds for 2 batch: 0.27 , loss: 0.000645\n",
      "torch.Size([32, 1546])\n",
      "torch.Size([32, 1546])\n",
      "steps 70, seconds for 2 batch: 0.25 , loss: 0.003093\n",
      "torch.Size([32, 1546])\n",
      "torch.Size([32, 1546])\n",
      "steps 72, seconds for 2 batch: 0.27 , loss: 0.000208\n",
      "torch.Size([32, 1546])\n",
      "torch.Size([32, 1546])\n",
      "steps 74, seconds for 2 batch: 0.32 , loss: 0.002837\n",
      "torch.Size([32, 1546])\n",
      "torch.Size([32, 1546])\n",
      "steps 76, seconds for 2 batch: 0.29 , loss: 0.000626\n",
      "torch.Size([32, 1546])\n",
      "torch.Size([32, 1546])\n",
      "steps 78, seconds for 2 batch: 0.27 , loss: 0.000107\n",
      "torch.Size([32, 1546])\n",
      "torch.Size([32, 1546])\n",
      "steps 80, seconds for 2 batch: 0.34 , loss: 0.000463\n",
      "torch.Size([32, 1546])\n",
      "torch.Size([32, 1546])\n",
      "steps 82, seconds for 2 batch: 0.29 , loss: 0.000203\n",
      "torch.Size([32, 1546])\n",
      "torch.Size([32, 1546])\n",
      "steps 84, seconds for 2 batch: 0.37 , loss: 0.000649\n",
      "torch.Size([32, 1546])\n",
      "torch.Size([32, 1546])\n",
      "steps 86, seconds for 2 batch: 0.24 , loss: 0.000234\n",
      "torch.Size([32, 1546])\n",
      "torch.Size([32, 1546])\n",
      "steps 88, seconds for 2 batch: 0.27 , loss: 0.002882\n",
      "torch.Size([32, 1546])\n",
      "torch.Size([32, 1546])\n",
      "steps 90, seconds for 2 batch: 0.34 , loss: 0.000555\n",
      "torch.Size([32, 1546])\n",
      "torch.Size([32, 1546])\n",
      "steps 92, seconds for 2 batch: 0.49 , loss: 0.000127\n",
      "torch.Size([32, 1546])\n",
      "torch.Size([32, 1546])\n",
      "steps 94, seconds for 2 batch: 0.40 , loss: 0.000164\n",
      "torch.Size([32, 1546])\n",
      "torch.Size([32, 1546])\n",
      "steps 96, seconds for 2 batch: 0.33 , loss: 0.000623\n",
      "torch.Size([32, 1546])\n",
      "torch.Size([32, 1546])\n",
      "steps 98, seconds for 2 batch: 0.26 , loss: 0.000280\n",
      "torch.Size([32, 1546])\n",
      "torch.Size([32, 1546])\n",
      "steps 100, seconds for 2 batch: 0.29 , loss: 0.002203\n",
      "torch.Size([32, 1546])\n",
      "torch.Size([32, 1546])\n",
      "steps 102, seconds for 2 batch: 0.32 , loss: 0.000524\n",
      "torch.Size([32, 1546])\n",
      "torch.Size([32, 1546])\n",
      "steps 104, seconds for 2 batch: 0.31 , loss: 0.000063\n",
      "torch.Size([32, 1546])\n",
      "torch.Size([32, 1546])\n",
      "steps 106, seconds for 2 batch: 0.33 , loss: 0.000137\n",
      "torch.Size([32, 1546])\n",
      "torch.Size([32, 1546])\n",
      "steps 108, seconds for 2 batch: 0.29 , loss: 0.002186\n",
      "torch.Size([32, 1546])\n",
      "torch.Size([32, 1546])\n",
      "steps 110, seconds for 2 batch: 0.32 , loss: 0.000236\n",
      "torch.Size([32, 1546])\n",
      "torch.Size([32, 1546])\n",
      "steps 112, seconds for 2 batch: 0.22 , loss: 0.003789\n",
      "torch.Size([32, 1546])\n",
      "torch.Size([32, 1546])\n",
      "steps 114, seconds for 2 batch: 0.25 , loss: 0.000114\n",
      "torch.Size([32, 1546])\n",
      "torch.Size([32, 1546])\n",
      "steps 116, seconds for 2 batch: 0.26 , loss: 0.000098\n",
      "torch.Size([32, 1546])\n",
      "torch.Size([32, 1546])\n",
      "steps 118, seconds for 2 batch: 0.27 , loss: 0.000300\n",
      "torch.Size([32, 1546])\n",
      "torch.Size([32, 1546])\n",
      "steps 120, seconds for 2 batch: 0.26 , loss: 0.001845\n",
      "torch.Size([32, 1546])\n",
      "torch.Size([32, 1546])\n",
      "steps 122, seconds for 2 batch: 0.25 , loss: 0.000157\n",
      "torch.Size([32, 1546])\n",
      "torch.Size([32, 1546])\n",
      "steps 124, seconds for 2 batch: 0.24 , loss: 0.001744\n",
      "torch.Size([32, 1546])\n",
      "torch.Size([32, 1546])\n",
      "steps 126, seconds for 2 batch: 0.26 , loss: 0.000331\n",
      "torch.Size([32, 1546])\n",
      "torch.Size([32, 1546])\n",
      "steps 128, seconds for 2 batch: 0.26 , loss: 0.000087\n",
      "torch.Size([32, 1546])\n",
      "torch.Size([32, 1546])\n",
      "steps 130, seconds for 2 batch: 0.25 , loss: 0.000180\n",
      "torch.Size([32, 1546])\n",
      "torch.Size([32, 1546])\n",
      "steps 132, seconds for 2 batch: 0.24 , loss: 0.001534\n",
      "torch.Size([32, 1546])\n",
      "torch.Size([32, 1546])\n",
      "steps 134, seconds for 2 batch: 0.25 , loss: 0.000366\n",
      "torch.Size([32, 1546])\n",
      "torch.Size([32, 1546])\n",
      "steps 136, seconds for 2 batch: 0.23 , loss: 0.000120\n",
      "torch.Size([32, 1546])\n",
      "torch.Size([32, 1546])\n",
      "steps 138, seconds for 2 batch: 0.25 , loss: 0.000315\n",
      "torch.Size([32, 1546])\n",
      "torch.Size([32, 1546])\n",
      "steps 140, seconds for 2 batch: 0.37 , loss: 0.000322\n",
      "torch.Size([32, 1546])\n",
      "torch.Size([32, 1546])\n",
      "steps 142, seconds for 2 batch: 0.28 , loss: 0.000080\n",
      "torch.Size([32, 1546])\n",
      "torch.Size([32, 1546])\n",
      "steps 144, seconds for 2 batch: 0.27 , loss: 0.000074\n",
      "torch.Size([32, 1546])\n",
      "torch.Size([32, 1546])\n",
      "steps 146, seconds for 2 batch: 0.31 , loss: 0.000374\n",
      "torch.Size([32, 1546])\n",
      "torch.Size([32, 1546])\n",
      "steps 148, seconds for 2 batch: 0.25 , loss: 0.000107\n",
      "torch.Size([32, 1546])\n",
      "torch.Size([32, 1546])\n",
      "steps 150, seconds for 2 batch: 0.26 , loss: 0.001530\n",
      "torch.Size([32, 1546])\n",
      "torch.Size([32, 1546])\n",
      "steps 152, seconds for 2 batch: 0.29 , loss: 0.000330\n",
      "torch.Size([32, 1546])\n",
      "torch.Size([32, 1546])\n",
      "steps 154, seconds for 2 batch: 0.26 , loss: 0.000065\n",
      "torch.Size([32, 1546])\n",
      "torch.Size([32, 1546])\n",
      "steps 156, seconds for 2 batch: 0.27 , loss: 0.000126\n",
      "torch.Size([32, 1546])\n",
      "torch.Size([32, 1546])\n",
      "steps 158, seconds for 2 batch: 0.25 , loss: 0.000216\n",
      "torch.Size([32, 1546])\n",
      "torch.Size([32, 1546])\n",
      "steps 160, seconds for 2 batch: 0.24 , loss: 0.000136\n",
      "torch.Size([32, 1546])\n",
      "torch.Size([32, 1546])\n",
      "steps 162, seconds for 2 batch: 0.23 , loss: 0.002687\n",
      "torch.Size([32, 1546])\n",
      "torch.Size([32, 1546])\n",
      "steps 164, seconds for 2 batch: 0.26 , loss: 0.000247\n",
      "torch.Size([32, 1546])\n",
      "torch.Size([32, 1546])\n",
      "steps 166, seconds for 2 batch: 0.28 , loss: 0.000058\n",
      "torch.Size([32, 1546])\n"
     ]
    },
    {
     "name": "stdout",
     "output_type": "stream",
     "text": [
      "torch.Size([32, 1546])\n",
      "steps 168, seconds for 2 batch: 0.28 , loss: 0.000177\n",
      "torch.Size([32, 1546])\n",
      "torch.Size([32, 1546])\n",
      "steps 170, seconds for 2 batch: 0.26 , loss: 0.001351\n",
      "torch.Size([32, 1546])\n",
      "torch.Size([32, 1546])\n",
      "steps 172, seconds for 2 batch: 0.25 , loss: 0.000128\n",
      "torch.Size([32, 1546])\n",
      "torch.Size([32, 1546])\n",
      "steps 174, seconds for 2 batch: 0.23 , loss: 0.001224\n",
      "torch.Size([32, 1546])\n",
      "torch.Size([32, 1546])\n",
      "steps 176, seconds for 2 batch: 0.26 , loss: 0.000187\n",
      "torch.Size([32, 1546])\n",
      "torch.Size([32, 1546])\n",
      "steps 178, seconds for 2 batch: 0.25 , loss: 0.000060\n",
      "torch.Size([32, 1546])\n",
      "torch.Size([32, 1546])\n",
      "steps 180, seconds for 2 batch: 0.26 , loss: 0.000147\n",
      "torch.Size([32, 1546])\n",
      "torch.Size([32, 1546])\n",
      "steps 182, seconds for 2 batch: 0.36 , loss: 0.001129\n",
      "torch.Size([32, 1546])\n",
      "torch.Size([32, 1546])\n",
      "steps 184, seconds for 2 batch: 0.27 , loss: 0.000252\n",
      "torch.Size([32, 1546])\n",
      "torch.Size([32, 1546])\n",
      "steps 186, seconds for 2 batch: 0.35 , loss: 0.001170\n",
      "torch.Size([32, 1546])\n",
      "torch.Size([32, 1546])\n",
      "steps 188, seconds for 2 batch: 0.33 , loss: 0.000216\n",
      "torch.Size([32, 1546])\n",
      "torch.Size([32, 1546])\n",
      "steps 190, seconds for 2 batch: 0.27 , loss: 0.000059\n",
      "torch.Size([32, 1546])\n",
      "torch.Size([32, 1546])\n",
      "steps 192, seconds for 2 batch: 0.31 , loss: 0.000049\n",
      "torch.Size([32, 1546])\n",
      "torch.Size([32, 1546])\n",
      "steps 194, seconds for 2 batch: 0.32 , loss: 0.000048\n",
      "torch.Size([32, 1546])\n",
      "torch.Size([32, 1546])\n",
      "steps 196, seconds for 2 batch: 0.24 , loss: 0.000227\n",
      "torch.Size([32, 1546])\n",
      "torch.Size([32, 1546])\n",
      "steps 198, seconds for 2 batch: 0.24 , loss: 0.000069\n",
      "torch.Size([32, 1546])\n",
      "torch.Size([32, 1546])\n",
      "steps 200, seconds for 2 batch: 0.24 , loss: 0.001205\n"
     ]
    }
   ],
   "source": [
    "trainer.trainIters(\n",
    "    n_iters = 200)\n",
    "#     model_file_path='/Users/rowancassius/Desktop/pointer_summarizer-master/training_ptr_gen/model_path')"
   ]
  },
  {
   "cell_type": "code",
   "execution_count": 17,
   "metadata": {},
   "outputs": [
    {
     "data": {
      "text/plain": [
       "<module 'training_ptr_gen.decode' from '/Users/rowancassius/Desktop/pointer_summarizer-master/training_ptr_gen/decode.py'>"
      ]
     },
     "execution_count": 17,
     "metadata": {},
     "output_type": "execute_result"
    },
    {
     "name": "stdout",
     "output_type": "stream",
     "text": [
      "INFO:tensorflow:Bucket queue size: 100, Input queue size: 3200\n"
     ]
    }
   ],
   "source": [
    "from training_ptr_gen import decode\n",
    "importlib.reload(decode)"
   ]
  },
  {
   "cell_type": "code",
   "execution_count": 18,
   "metadata": {},
   "outputs": [],
   "source": [
    "# config.log_root"
   ]
  },
  {
   "cell_type": "code",
   "execution_count": 21,
   "metadata": {},
   "outputs": [],
   "source": [
    "model_file_path = \"/Users/rowancassius/Desktop/pointer_summarizer-master/training_ptr_gen/train_1591992735/model/model_200_1591992764\""
   ]
  },
  {
   "cell_type": "code",
   "execution_count": 20,
   "metadata": {},
   "outputs": [
    {
     "name": "stdout",
     "output_type": "stream",
     "text": [
      "INFO:tensorflow:Bucket queue size: 100, Input queue size: 3200\n"
     ]
    }
   ],
   "source": [
    "decode_data_path = \"/Users/rowancassius/Desktop/pointer_summarizer-master/training_ptr_gen/data_file.txt\""
   ]
  },
  {
   "cell_type": "code",
   "execution_count": null,
   "metadata": {},
   "outputs": [],
   "source": []
  },
  {
   "cell_type": "code",
   "execution_count": 22,
   "metadata": {},
   "outputs": [
    {
     "name": "stdout",
     "output_type": "stream",
     "text": [
      "max_size of vocab was specified as 1546; we now have 1546 words. Stopping reading.\n",
      "Finished constructing vocabulary of 1546 total words. Last word added: loi,\n",
      "example_generator completed reading all datafiles. No more data.\n"
     ]
    },
    {
     "name": "stderr",
     "output_type": "stream",
     "text": [
      "Exception in thread Thread-7:\n",
      "Traceback (most recent call last):\n",
      "  File \"/Users/rowancassius/Desktop/pointer_summarizer-master/data_util/batcher.py\", line 274, in text_generator\n",
      "    e = next(example_generator) # e is a tf.Example\n",
      "StopIteration\n",
      "\n",
      "The above exception was the direct cause of the following exception:\n",
      "\n",
      "Traceback (most recent call last):\n",
      "  File \"/Users/rowancassius/opt/anaconda3/lib/python3.7/threading.py\", line 926, in _bootstrap_inner\n",
      "    self.run()\n",
      "  File \"/Users/rowancassius/opt/anaconda3/lib/python3.7/threading.py\", line 870, in run\n",
      "    self._target(*self._args, **self._kwargs)\n",
      "  File \"/Users/rowancassius/Desktop/pointer_summarizer-master/data_util/batcher.py\", line 212, in fill_example_queue\n",
      "    (article, abstract) = next(input_gen) # read the next example from file. article and abstract are both strings.\n",
      "RuntimeError: generator raised StopIteration\n",
      "\n"
     ]
    }
   ],
   "source": [
    "bs = decode.BeamSearch(model_file_path)"
   ]
  },
  {
   "cell_type": "code",
   "execution_count": null,
   "metadata": {},
   "outputs": [],
   "source": [
    "config.pointer_gen = False"
   ]
  },
  {
   "cell_type": "code",
   "execution_count": 23,
   "metadata": {},
   "outputs": [
    {
     "name": "stdout",
     "output_type": "stream",
     "text": [
      "torch.Size([4, 1546])\n",
      "torch.Size([4, 1546])\n",
      "torch.Size([4, 1546])\n",
      "torch.Size([4, 1546])\n",
      "torch.Size([4, 1546])\n",
      "torch.Size([4, 1546])\n",
      "torch.Size([4, 1546])\n",
      "torch.Size([4, 1546])\n",
      "torch.Size([4, 1546])\n",
      "torch.Size([4, 1546])\n",
      "torch.Size([4, 1546])\n",
      "torch.Size([4, 1546])\n",
      "torch.Size([4, 1546])\n",
      "torch.Size([4, 1546])\n",
      "torch.Size([4, 1546])\n",
      "torch.Size([4, 1546])\n",
      "torch.Size([4, 1546])\n",
      "torch.Size([4, 1546])\n",
      "torch.Size([4, 1546])\n",
      "torch.Size([4, 1546])\n",
      "torch.Size([4, 1546])\n",
      "torch.Size([4, 1546])\n",
      "torch.Size([4, 1546])\n",
      "torch.Size([4, 1546])\n",
      "torch.Size([4, 1546])\n",
      "torch.Size([4, 1546])\n",
      "torch.Size([4, 1546])\n",
      "torch.Size([4, 1546])\n",
      "torch.Size([4, 1546])\n",
      "torch.Size([4, 1546])\n",
      "INFO:tensorflow:Finished reading dataset in single_pass mode.\n"
     ]
    }
   ],
   "source": [
    "summaries = bs.decode()"
   ]
  },
  {
   "cell_type": "code",
   "execution_count": 24,
   "metadata": {},
   "outputs": [
    {
     "data": {
      "text/plain": [
       "10"
      ]
     },
     "execution_count": 24,
     "metadata": {},
     "output_type": "execute_result"
    },
    {
     "name": "stdout",
     "output_type": "stream",
     "text": [
      "INFO:tensorflow:Bucket queue size: 100, Input queue size: 3200\n"
     ]
    }
   ],
   "source": [
    "len(summaries)"
   ]
  },
  {
   "cell_type": "code",
   "execution_count": 25,
   "metadata": {},
   "outputs": [
    {
     "data": {
      "text/plain": [
       "[['Please', 'Please'],\n",
       " ['line,', 'a'],\n",
       " ['line,', 'Please'],\n",
       " ['line,', 'line,'],\n",
       " ['line,', 'line,'],\n",
       " ['line,', 'And'],\n",
       " ['line,', 'line,'],\n",
       " ['line,', 'line,'],\n",
       " ['line,', 'line,'],\n",
       " ['Can', 'Can']]"
      ]
     },
     "execution_count": 25,
     "metadata": {},
     "output_type": "execute_result"
    },
    {
     "name": "stdout",
     "output_type": "stream",
     "text": [
      "INFO:tensorflow:Bucket queue size: 100, Input queue size: 3200\n",
      "INFO:tensorflow:Bucket queue size: 100, Input queue size: 3200\n",
      "INFO:tensorflow:Bucket queue size: 100, Input queue size: 3200\n",
      "INFO:tensorflow:Bucket queue size: 100, Input queue size: 3200\n",
      "INFO:tensorflow:Bucket queue size: 100, Input queue size: 3200\n",
      "INFO:tensorflow:Bucket queue size: 100, Input queue size: 3200\n",
      "INFO:tensorflow:Bucket queue size: 100, Input queue size: 3200\n",
      "INFO:tensorflow:Bucket queue size: 100, Input queue size: 3200\n",
      "INFO:tensorflow:Bucket queue size: 100, Input queue size: 3200\n",
      "INFO:tensorflow:Bucket queue size: 100, Input queue size: 3200\n",
      "INFO:tensorflow:Bucket queue size: 100, Input queue size: 3200\n",
      "INFO:tensorflow:Bucket queue size: 100, Input queue size: 3200\n",
      "INFO:tensorflow:Bucket queue size: 100, Input queue size: 3200\n",
      "INFO:tensorflow:Bucket queue size: 100, Input queue size: 3200\n",
      "INFO:tensorflow:Bucket queue size: 100, Input queue size: 3200\n",
      "INFO:tensorflow:Bucket queue size: 100, Input queue size: 3200\n",
      "INFO:tensorflow:Bucket queue size: 100, Input queue size: 3200\n",
      "INFO:tensorflow:Bucket queue size: 100, Input queue size: 3200\n",
      "INFO:tensorflow:Bucket queue size: 100, Input queue size: 3200\n",
      "INFO:tensorflow:Bucket queue size: 100, Input queue size: 3200\n",
      "INFO:tensorflow:Bucket queue size: 100, Input queue size: 3200\n",
      "INFO:tensorflow:Bucket queue size: 100, Input queue size: 3200\n",
      "INFO:tensorflow:Bucket queue size: 100, Input queue size: 3200\n",
      "INFO:tensorflow:Bucket queue size: 100, Input queue size: 3200\n",
      "INFO:tensorflow:Bucket queue size: 100, Input queue size: 3200\n",
      "INFO:tensorflow:Bucket queue size: 100, Input queue size: 3200\n",
      "INFO:tensorflow:Bucket queue size: 100, Input queue size: 3200\n",
      "INFO:tensorflow:Bucket queue size: 100, Input queue size: 3200\n",
      "INFO:tensorflow:Bucket queue size: 100, Input queue size: 3200\n",
      "INFO:tensorflow:Bucket queue size: 100, Input queue size: 3200\n",
      "INFO:tensorflow:Bucket queue size: 100, Input queue size: 3200\n",
      "INFO:tensorflow:Bucket queue size: 100, Input queue size: 3200\n",
      "INFO:tensorflow:Bucket queue size: 100, Input queue size: 3200\n",
      "INFO:tensorflow:Bucket queue size: 100, Input queue size: 3200\n",
      "INFO:tensorflow:Bucket queue size: 100, Input queue size: 3200\n",
      "INFO:tensorflow:Bucket queue size: 100, Input queue size: 3200\n",
      "INFO:tensorflow:Bucket queue size: 100, Input queue size: 3200\n",
      "INFO:tensorflow:Bucket queue size: 100, Input queue size: 3200\n",
      "INFO:tensorflow:Bucket queue size: 100, Input queue size: 3200\n",
      "INFO:tensorflow:Bucket queue size: 100, Input queue size: 3200\n",
      "INFO:tensorflow:Bucket queue size: 100, Input queue size: 3200\n",
      "INFO:tensorflow:Bucket queue size: 100, Input queue size: 3200\n",
      "INFO:tensorflow:Bucket queue size: 100, Input queue size: 3200\n",
      "INFO:tensorflow:Bucket queue size: 100, Input queue size: 3200\n",
      "INFO:tensorflow:Bucket queue size: 100, Input queue size: 3200\n",
      "INFO:tensorflow:Bucket queue size: 100, Input queue size: 3200\n",
      "INFO:tensorflow:Bucket queue size: 100, Input queue size: 3200\n",
      "INFO:tensorflow:Bucket queue size: 100, Input queue size: 3200\n",
      "INFO:tensorflow:Bucket queue size: 100, Input queue size: 3200\n",
      "INFO:tensorflow:Bucket queue size: 100, Input queue size: 3200\n",
      "INFO:tensorflow:Bucket queue size: 100, Input queue size: 3200\n",
      "INFO:tensorflow:Bucket queue size: 100, Input queue size: 3200\n",
      "INFO:tensorflow:Bucket queue size: 100, Input queue size: 3200\n",
      "INFO:tensorflow:Bucket queue size: 100, Input queue size: 3200\n",
      "INFO:tensorflow:Bucket queue size: 100, Input queue size: 3200\n",
      "INFO:tensorflow:Bucket queue size: 100, Input queue size: 3200\n",
      "INFO:tensorflow:Bucket queue size: 100, Input queue size: 3200\n",
      "INFO:tensorflow:Bucket queue size: 100, Input queue size: 3200\n",
      "INFO:tensorflow:Bucket queue size: 100, Input queue size: 3200\n",
      "INFO:tensorflow:Bucket queue size: 100, Input queue size: 3200\n",
      "INFO:tensorflow:Bucket queue size: 100, Input queue size: 3200\n",
      "INFO:tensorflow:Bucket queue size: 100, Input queue size: 3200\n",
      "INFO:tensorflow:Bucket queue size: 100, Input queue size: 3200\n",
      "INFO:tensorflow:Bucket queue size: 100, Input queue size: 3200\n",
      "INFO:tensorflow:Bucket queue size: 100, Input queue size: 3200\n",
      "INFO:tensorflow:Bucket queue size: 100, Input queue size: 3200\n",
      "INFO:tensorflow:Bucket queue size: 100, Input queue size: 3200\n",
      "INFO:tensorflow:Bucket queue size: 100, Input queue size: 3200\n",
      "INFO:tensorflow:Bucket queue size: 100, Input queue size: 3200\n",
      "INFO:tensorflow:Bucket queue size: 100, Input queue size: 3200\n",
      "INFO:tensorflow:Bucket queue size: 100, Input queue size: 3200\n",
      "INFO:tensorflow:Bucket queue size: 100, Input queue size: 3200\n",
      "INFO:tensorflow:Bucket queue size: 100, Input queue size: 3200\n",
      "INFO:tensorflow:Bucket queue size: 100, Input queue size: 3200\n",
      "INFO:tensorflow:Bucket queue size: 100, Input queue size: 3200\n",
      "INFO:tensorflow:Bucket queue size: 100, Input queue size: 3200\n",
      "INFO:tensorflow:Bucket queue size: 100, Input queue size: 3200\n",
      "INFO:tensorflow:Bucket queue size: 100, Input queue size: 3200\n",
      "INFO:tensorflow:Bucket queue size: 100, Input queue size: 3200\n",
      "INFO:tensorflow:Bucket queue size: 100, Input queue size: 3200\n",
      "INFO:tensorflow:Bucket queue size: 100, Input queue size: 3200\n",
      "INFO:tensorflow:Bucket queue size: 100, Input queue size: 3200\n",
      "INFO:tensorflow:Bucket queue size: 100, Input queue size: 3200\n",
      "INFO:tensorflow:Bucket queue size: 100, Input queue size: 3200\n",
      "INFO:tensorflow:Bucket queue size: 100, Input queue size: 3200\n",
      "INFO:tensorflow:Bucket queue size: 100, Input queue size: 3200\n",
      "INFO:tensorflow:Bucket queue size: 100, Input queue size: 3200\n",
      "INFO:tensorflow:Bucket queue size: 100, Input queue size: 3200\n",
      "INFO:tensorflow:Bucket queue size: 100, Input queue size: 3200\n",
      "INFO:tensorflow:Bucket queue size: 100, Input queue size: 3200\n",
      "INFO:tensorflow:Bucket queue size: 100, Input queue size: 3200\n",
      "INFO:tensorflow:Bucket queue size: 100, Input queue size: 3200\n",
      "INFO:tensorflow:Bucket queue size: 100, Input queue size: 3200\n",
      "INFO:tensorflow:Bucket queue size: 100, Input queue size: 3200\n",
      "INFO:tensorflow:Bucket queue size: 100, Input queue size: 3200\n",
      "INFO:tensorflow:Bucket queue size: 100, Input queue size: 3200\n",
      "INFO:tensorflow:Bucket queue size: 100, Input queue size: 3200\n",
      "INFO:tensorflow:Bucket queue size: 100, Input queue size: 3200\n",
      "INFO:tensorflow:Bucket queue size: 100, Input queue size: 3200\n",
      "INFO:tensorflow:Bucket queue size: 100, Input queue size: 3200\n",
      "INFO:tensorflow:Bucket queue size: 100, Input queue size: 3200\n",
      "INFO:tensorflow:Bucket queue size: 100, Input queue size: 3200\n",
      "INFO:tensorflow:Bucket queue size: 100, Input queue size: 3200\n",
      "INFO:tensorflow:Bucket queue size: 100, Input queue size: 3200\n",
      "INFO:tensorflow:Bucket queue size: 100, Input queue size: 3200\n",
      "INFO:tensorflow:Bucket queue size: 100, Input queue size: 3200\n",
      "INFO:tensorflow:Bucket queue size: 100, Input queue size: 3200\n",
      "INFO:tensorflow:Bucket queue size: 100, Input queue size: 3200\n",
      "INFO:tensorflow:Bucket queue size: 100, Input queue size: 3200\n",
      "INFO:tensorflow:Bucket queue size: 100, Input queue size: 3200\n",
      "INFO:tensorflow:Bucket queue size: 100, Input queue size: 3200\n",
      "INFO:tensorflow:Bucket queue size: 100, Input queue size: 3200\n",
      "INFO:tensorflow:Bucket queue size: 100, Input queue size: 3200\n",
      "INFO:tensorflow:Bucket queue size: 100, Input queue size: 3200\n",
      "INFO:tensorflow:Bucket queue size: 100, Input queue size: 3200\n",
      "INFO:tensorflow:Bucket queue size: 100, Input queue size: 3200\n",
      "INFO:tensorflow:Bucket queue size: 100, Input queue size: 3200\n",
      "INFO:tensorflow:Bucket queue size: 100, Input queue size: 3200\n",
      "INFO:tensorflow:Bucket queue size: 100, Input queue size: 3200\n",
      "INFO:tensorflow:Bucket queue size: 100, Input queue size: 3200\n",
      "INFO:tensorflow:Bucket queue size: 100, Input queue size: 3200\n",
      "INFO:tensorflow:Bucket queue size: 100, Input queue size: 3200\n",
      "INFO:tensorflow:Bucket queue size: 100, Input queue size: 3200\n",
      "INFO:tensorflow:Bucket queue size: 100, Input queue size: 3200\n",
      "INFO:tensorflow:Bucket queue size: 100, Input queue size: 3200\n",
      "INFO:tensorflow:Bucket queue size: 100, Input queue size: 3200\n",
      "INFO:tensorflow:Bucket queue size: 100, Input queue size: 3200\n",
      "INFO:tensorflow:Bucket queue size: 100, Input queue size: 3200\n",
      "INFO:tensorflow:Bucket queue size: 100, Input queue size: 3200\n",
      "INFO:tensorflow:Bucket queue size: 100, Input queue size: 3200\n",
      "INFO:tensorflow:Bucket queue size: 100, Input queue size: 3200\n"
     ]
    },
    {
     "name": "stdout",
     "output_type": "stream",
     "text": [
      "INFO:tensorflow:Bucket queue size: 100, Input queue size: 3200\n",
      "INFO:tensorflow:Bucket queue size: 100, Input queue size: 3200\n",
      "INFO:tensorflow:Bucket queue size: 100, Input queue size: 3200\n",
      "INFO:tensorflow:Bucket queue size: 100, Input queue size: 3200\n",
      "INFO:tensorflow:Bucket queue size: 100, Input queue size: 3200\n",
      "INFO:tensorflow:Bucket queue size: 100, Input queue size: 3200\n",
      "INFO:tensorflow:Bucket queue size: 100, Input queue size: 3200\n",
      "INFO:tensorflow:Bucket queue size: 100, Input queue size: 3200\n",
      "INFO:tensorflow:Bucket queue size: 100, Input queue size: 3200\n",
      "INFO:tensorflow:Bucket queue size: 100, Input queue size: 3200\n",
      "INFO:tensorflow:Bucket queue size: 100, Input queue size: 3200\n",
      "INFO:tensorflow:Bucket queue size: 100, Input queue size: 3200\n",
      "INFO:tensorflow:Bucket queue size: 100, Input queue size: 3200\n",
      "INFO:tensorflow:Bucket queue size: 100, Input queue size: 3200\n",
      "INFO:tensorflow:Bucket queue size: 100, Input queue size: 3200\n",
      "INFO:tensorflow:Bucket queue size: 100, Input queue size: 3200\n",
      "INFO:tensorflow:Bucket queue size: 100, Input queue size: 3200\n",
      "INFO:tensorflow:Bucket queue size: 100, Input queue size: 3200\n",
      "INFO:tensorflow:Bucket queue size: 100, Input queue size: 3200\n",
      "INFO:tensorflow:Bucket queue size: 100, Input queue size: 3200\n",
      "INFO:tensorflow:Bucket queue size: 100, Input queue size: 3200\n",
      "INFO:tensorflow:Bucket queue size: 100, Input queue size: 3200\n",
      "INFO:tensorflow:Bucket queue size: 100, Input queue size: 3200\n",
      "INFO:tensorflow:Bucket queue size: 100, Input queue size: 3200\n",
      "INFO:tensorflow:Bucket queue size: 100, Input queue size: 3200\n",
      "INFO:tensorflow:Bucket queue size: 100, Input queue size: 3200\n",
      "INFO:tensorflow:Bucket queue size: 100, Input queue size: 3200\n",
      "INFO:tensorflow:Bucket queue size: 100, Input queue size: 3200\n",
      "INFO:tensorflow:Bucket queue size: 100, Input queue size: 3200\n",
      "INFO:tensorflow:Bucket queue size: 100, Input queue size: 3200\n",
      "INFO:tensorflow:Bucket queue size: 100, Input queue size: 3200\n",
      "INFO:tensorflow:Bucket queue size: 100, Input queue size: 3200\n",
      "INFO:tensorflow:Bucket queue size: 100, Input queue size: 3200\n",
      "INFO:tensorflow:Bucket queue size: 100, Input queue size: 3200\n",
      "INFO:tensorflow:Bucket queue size: 100, Input queue size: 3200\n",
      "INFO:tensorflow:Bucket queue size: 100, Input queue size: 3200\n",
      "INFO:tensorflow:Bucket queue size: 100, Input queue size: 3200\n",
      "INFO:tensorflow:Bucket queue size: 100, Input queue size: 3200\n",
      "INFO:tensorflow:Bucket queue size: 100, Input queue size: 3200\n",
      "INFO:tensorflow:Bucket queue size: 100, Input queue size: 3200\n",
      "INFO:tensorflow:Bucket queue size: 100, Input queue size: 3200\n",
      "INFO:tensorflow:Bucket queue size: 100, Input queue size: 3200\n",
      "INFO:tensorflow:Bucket queue size: 100, Input queue size: 3200\n",
      "INFO:tensorflow:Bucket queue size: 100, Input queue size: 3200\n",
      "INFO:tensorflow:Bucket queue size: 100, Input queue size: 3200\n",
      "INFO:tensorflow:Bucket queue size: 100, Input queue size: 3200\n",
      "INFO:tensorflow:Bucket queue size: 100, Input queue size: 3200\n",
      "INFO:tensorflow:Bucket queue size: 100, Input queue size: 3200\n",
      "INFO:tensorflow:Bucket queue size: 100, Input queue size: 3200\n",
      "INFO:tensorflow:Bucket queue size: 100, Input queue size: 3200\n",
      "INFO:tensorflow:Bucket queue size: 100, Input queue size: 3200\n",
      "INFO:tensorflow:Bucket queue size: 100, Input queue size: 3200\n",
      "INFO:tensorflow:Bucket queue size: 100, Input queue size: 3200\n",
      "INFO:tensorflow:Bucket queue size: 100, Input queue size: 3200\n",
      "INFO:tensorflow:Bucket queue size: 100, Input queue size: 3200\n",
      "INFO:tensorflow:Bucket queue size: 100, Input queue size: 3200\n",
      "INFO:tensorflow:Bucket queue size: 100, Input queue size: 3200\n",
      "INFO:tensorflow:Bucket queue size: 100, Input queue size: 3200\n",
      "INFO:tensorflow:Bucket queue size: 100, Input queue size: 3200\n",
      "INFO:tensorflow:Bucket queue size: 100, Input queue size: 3200\n",
      "INFO:tensorflow:Bucket queue size: 100, Input queue size: 3200\n",
      "INFO:tensorflow:Bucket queue size: 100, Input queue size: 3200\n",
      "INFO:tensorflow:Bucket queue size: 100, Input queue size: 3200\n",
      "INFO:tensorflow:Bucket queue size: 100, Input queue size: 3200\n",
      "INFO:tensorflow:Bucket queue size: 100, Input queue size: 3200\n",
      "INFO:tensorflow:Bucket queue size: 100, Input queue size: 3200\n",
      "INFO:tensorflow:Bucket queue size: 100, Input queue size: 3200\n",
      "INFO:tensorflow:Bucket queue size: 100, Input queue size: 3200\n",
      "INFO:tensorflow:Bucket queue size: 100, Input queue size: 3200\n",
      "INFO:tensorflow:Bucket queue size: 100, Input queue size: 3200\n",
      "INFO:tensorflow:Bucket queue size: 100, Input queue size: 3200\n",
      "INFO:tensorflow:Bucket queue size: 100, Input queue size: 3200\n",
      "INFO:tensorflow:Bucket queue size: 100, Input queue size: 3200\n",
      "INFO:tensorflow:Bucket queue size: 100, Input queue size: 3200\n",
      "INFO:tensorflow:Bucket queue size: 100, Input queue size: 3200\n",
      "INFO:tensorflow:Bucket queue size: 100, Input queue size: 3200\n",
      "INFO:tensorflow:Bucket queue size: 100, Input queue size: 3200\n",
      "INFO:tensorflow:Bucket queue size: 100, Input queue size: 3200\n",
      "INFO:tensorflow:Bucket queue size: 100, Input queue size: 3200\n",
      "INFO:tensorflow:Bucket queue size: 100, Input queue size: 3200\n",
      "INFO:tensorflow:Bucket queue size: 100, Input queue size: 3200\n",
      "INFO:tensorflow:Bucket queue size: 100, Input queue size: 3200\n",
      "INFO:tensorflow:Bucket queue size: 100, Input queue size: 3200\n",
      "INFO:tensorflow:Bucket queue size: 100, Input queue size: 3200\n",
      "INFO:tensorflow:Bucket queue size: 100, Input queue size: 3200\n",
      "INFO:tensorflow:Bucket queue size: 100, Input queue size: 3200\n",
      "INFO:tensorflow:Bucket queue size: 100, Input queue size: 3200\n",
      "INFO:tensorflow:Bucket queue size: 100, Input queue size: 3200\n",
      "INFO:tensorflow:Bucket queue size: 100, Input queue size: 3200\n",
      "INFO:tensorflow:Bucket queue size: 100, Input queue size: 3200\n",
      "INFO:tensorflow:Bucket queue size: 100, Input queue size: 3200\n",
      "INFO:tensorflow:Bucket queue size: 100, Input queue size: 3200\n",
      "INFO:tensorflow:Bucket queue size: 100, Input queue size: 3200\n",
      "INFO:tensorflow:Bucket queue size: 100, Input queue size: 3200\n",
      "INFO:tensorflow:Bucket queue size: 100, Input queue size: 3200\n",
      "INFO:tensorflow:Bucket queue size: 100, Input queue size: 3200\n",
      "INFO:tensorflow:Bucket queue size: 100, Input queue size: 3200\n",
      "INFO:tensorflow:Bucket queue size: 100, Input queue size: 3200\n",
      "INFO:tensorflow:Bucket queue size: 100, Input queue size: 3200\n",
      "INFO:tensorflow:Bucket queue size: 100, Input queue size: 3200\n",
      "INFO:tensorflow:Bucket queue size: 100, Input queue size: 3200\n",
      "INFO:tensorflow:Bucket queue size: 100, Input queue size: 3200\n",
      "INFO:tensorflow:Bucket queue size: 100, Input queue size: 3200\n",
      "INFO:tensorflow:Bucket queue size: 100, Input queue size: 3200\n",
      "INFO:tensorflow:Bucket queue size: 100, Input queue size: 3200\n",
      "INFO:tensorflow:Bucket queue size: 100, Input queue size: 3200\n",
      "INFO:tensorflow:Bucket queue size: 100, Input queue size: 3200\n",
      "INFO:tensorflow:Bucket queue size: 100, Input queue size: 3200\n",
      "INFO:tensorflow:Bucket queue size: 100, Input queue size: 3200\n",
      "INFO:tensorflow:Bucket queue size: 100, Input queue size: 3200\n",
      "INFO:tensorflow:Bucket queue size: 100, Input queue size: 3200\n",
      "INFO:tensorflow:Bucket queue size: 100, Input queue size: 3200\n",
      "INFO:tensorflow:Bucket queue size: 100, Input queue size: 3200\n",
      "INFO:tensorflow:Bucket queue size: 100, Input queue size: 3200\n",
      "INFO:tensorflow:Bucket queue size: 100, Input queue size: 3200\n",
      "INFO:tensorflow:Bucket queue size: 100, Input queue size: 3200\n",
      "INFO:tensorflow:Bucket queue size: 100, Input queue size: 3200\n",
      "INFO:tensorflow:Bucket queue size: 100, Input queue size: 3200\n",
      "INFO:tensorflow:Bucket queue size: 100, Input queue size: 3200\n",
      "INFO:tensorflow:Bucket queue size: 100, Input queue size: 3200\n",
      "INFO:tensorflow:Bucket queue size: 100, Input queue size: 3200\n",
      "INFO:tensorflow:Bucket queue size: 100, Input queue size: 3200\n",
      "INFO:tensorflow:Bucket queue size: 100, Input queue size: 3200\n",
      "INFO:tensorflow:Bucket queue size: 100, Input queue size: 3200\n",
      "INFO:tensorflow:Bucket queue size: 100, Input queue size: 3200\n",
      "INFO:tensorflow:Bucket queue size: 100, Input queue size: 3200\n",
      "INFO:tensorflow:Bucket queue size: 100, Input queue size: 3200\n",
      "INFO:tensorflow:Bucket queue size: 100, Input queue size: 3200\n",
      "INFO:tensorflow:Bucket queue size: 100, Input queue size: 3200\n",
      "INFO:tensorflow:Bucket queue size: 100, Input queue size: 3200\n",
      "INFO:tensorflow:Bucket queue size: 100, Input queue size: 3200\n"
     ]
    },
    {
     "name": "stdout",
     "output_type": "stream",
     "text": [
      "INFO:tensorflow:Bucket queue size: 100, Input queue size: 3200\n",
      "INFO:tensorflow:Bucket queue size: 100, Input queue size: 3200\n",
      "INFO:tensorflow:Bucket queue size: 100, Input queue size: 3200\n",
      "INFO:tensorflow:Bucket queue size: 100, Input queue size: 3200\n",
      "INFO:tensorflow:Bucket queue size: 100, Input queue size: 3200\n",
      "INFO:tensorflow:Bucket queue size: 100, Input queue size: 3200\n",
      "INFO:tensorflow:Bucket queue size: 100, Input queue size: 3200\n",
      "INFO:tensorflow:Bucket queue size: 100, Input queue size: 3200\n",
      "INFO:tensorflow:Bucket queue size: 100, Input queue size: 3200\n",
      "INFO:tensorflow:Bucket queue size: 100, Input queue size: 3200\n",
      "INFO:tensorflow:Bucket queue size: 100, Input queue size: 3200\n",
      "INFO:tensorflow:Bucket queue size: 100, Input queue size: 3200\n",
      "INFO:tensorflow:Bucket queue size: 100, Input queue size: 3200\n",
      "INFO:tensorflow:Bucket queue size: 100, Input queue size: 3200\n",
      "INFO:tensorflow:Bucket queue size: 100, Input queue size: 3200\n",
      "INFO:tensorflow:Bucket queue size: 100, Input queue size: 3200\n",
      "INFO:tensorflow:Bucket queue size: 100, Input queue size: 3200\n",
      "INFO:tensorflow:Bucket queue size: 100, Input queue size: 3200\n",
      "INFO:tensorflow:Bucket queue size: 100, Input queue size: 3200\n",
      "INFO:tensorflow:Bucket queue size: 100, Input queue size: 3200\n",
      "INFO:tensorflow:Bucket queue size: 100, Input queue size: 3200\n",
      "INFO:tensorflow:Bucket queue size: 100, Input queue size: 3200\n",
      "INFO:tensorflow:Bucket queue size: 100, Input queue size: 3200\n",
      "INFO:tensorflow:Bucket queue size: 100, Input queue size: 3200\n",
      "INFO:tensorflow:Bucket queue size: 100, Input queue size: 3200\n",
      "INFO:tensorflow:Bucket queue size: 100, Input queue size: 3200\n",
      "INFO:tensorflow:Bucket queue size: 100, Input queue size: 3200\n",
      "INFO:tensorflow:Bucket queue size: 100, Input queue size: 3200\n",
      "INFO:tensorflow:Bucket queue size: 100, Input queue size: 3200\n",
      "INFO:tensorflow:Bucket queue size: 100, Input queue size: 3200\n"
     ]
    }
   ],
   "source": [
    "summaries"
   ]
  },
  {
   "cell_type": "code",
   "execution_count": null,
   "metadata": {},
   "outputs": [],
   "source": [
    "b = bs.batcher.next_batch()"
   ]
  },
  {
   "cell_type": "code",
   "execution_count": null,
   "metadata": {},
   "outputs": [],
   "source": []
  },
  {
   "cell_type": "code",
   "execution_count": null,
   "metadata": {},
   "outputs": [],
   "source": [
    "def simpleGeneratorFun():\n",
    "    yield 1\n",
    "    yield 2\n",
    "    yield 3\n",
    "for value in simpleGeneratorFun():\n",
    "    print(value)"
   ]
  },
  {
   "cell_type": "code",
   "execution_count": null,
   "metadata": {},
   "outputs": [],
   "source": [
    "import torch"
   ]
  },
  {
   "cell_type": "code",
   "execution_count": null,
   "metadata": {},
   "outputs": [],
   "source": [
    "vocab_dist_ = torch.tensor([0.5, 0.3, 0.2]).unsqueeze(0)\n",
    "enc_batch_extend_vocab = torch.tensor([3,4]).unsqueeze(0)\n",
    "attn_dist_ = torch.tensor([0.4, 0.6]).unsqueeze(0)"
   ]
  },
  {
   "cell_type": "code",
   "execution_count": null,
   "metadata": {},
   "outputs": [],
   "source": [
    "enc_batch_extend_vocab"
   ]
  },
  {
   "cell_type": "code",
   "execution_count": null,
   "metadata": {},
   "outputs": [],
   "source": [
    "vocab_dist_.scatter_add(1, enc_batch_extend_vocab, attn_dist_)"
   ]
  },
  {
   "cell_type": "code",
   "execution_count": null,
   "metadata": {},
   "outputs": [],
   "source": []
  }
 ],
 "metadata": {
  "kernelspec": {
   "display_name": "Python 3",
   "language": "python",
   "name": "python3"
  },
  "language_info": {
   "codemirror_mode": {
    "name": "ipython",
    "version": 3
   },
   "file_extension": ".py",
   "mimetype": "text/x-python",
   "name": "python",
   "nbconvert_exporter": "python",
   "pygments_lexer": "ipython3",
   "version": "3.7.4"
  }
 },
 "nbformat": 4,
 "nbformat_minor": 2
}

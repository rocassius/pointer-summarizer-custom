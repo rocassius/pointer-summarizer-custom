{
 "cells": [
  {
   "cell_type": "code",
   "execution_count": 1,
   "metadata": {},
   "outputs": [],
   "source": [
    "import os\n",
    "os.chdir('training_ptr_gen')\n",
    "os.environ['TF_CPP_MIN_LOG_LEVEL'] = '3'"
   ]
  },
  {
   "cell_type": "code",
   "execution_count": 2,
   "metadata": {},
   "outputs": [
    {
     "name": "stdout",
     "output_type": "stream",
     "text": [
      "/Users/rowancassius/Desktop/pointer_summarizer-master/training_ptr_gen\r\n"
     ]
    }
   ],
   "source": [
    "!pwd"
   ]
  },
  {
   "cell_type": "code",
   "execution_count": 3,
   "metadata": {},
   "outputs": [
    {
     "name": "stderr",
     "output_type": "stream",
     "text": [
      "Using TensorFlow backend.\n"
     ]
    }
   ],
   "source": [
    "import os\n",
    "import importlib\n",
    "import warnings\n",
    "warnings.filterwarnings('ignore')\n",
    "\n",
    "import numpy as np\n",
    "import pandas as pd\n",
    "from sklearn.model_selection import train_test_split\n",
    "\n",
    "import tensorflow as tf\n",
    "import tensorflow.keras.backend as K\n",
    "\n",
    "from keras.preprocessing.text import Tokenizer\n",
    "from keras.preprocessing.sequence import pad_sequences\n",
    "\n",
    "from flair.embeddings import WordEmbeddings"
   ]
  },
  {
   "cell_type": "code",
   "execution_count": 32,
   "metadata": {},
   "outputs": [
    {
     "data": {
      "text/plain": [
       "<module 'data_util.config' from '/Users/rowancassius/Desktop/pointer_summarizer-master/data_util/config.py'>"
      ]
     },
     "execution_count": 32,
     "metadata": {},
     "output_type": "execute_result"
    },
    {
     "name": "stdout",
     "output_type": "stream",
     "text": [
      "INFO:tensorflow:Bucket queue size: 100, Input queue size: 3200\n"
     ]
    }
   ],
   "source": [
    "import train\n",
    "from training_ptr_gen import train, model\n",
    "import data_util.data\n",
    "from data_util import data\n",
    "from data_util import config, utils\n",
    "from training_ptr_gen import decode\n",
    "\n",
    "importlib.reload(decode)\n",
    "importlib.reload(data_util.data)\n",
    "importlib.reload(data_util.batcher)\n",
    "from data_util.data import *\n",
    "importlib.reload(config)\n",
    "importlib.reload(train)\n",
    "importlib.reload(utils)\n",
    "importlib.reload(config)"
   ]
  },
  {
   "cell_type": "code",
   "execution_count": null,
   "metadata": {},
   "outputs": [],
   "source": []
  },
  {
   "cell_type": "code",
   "execution_count": 6,
   "metadata": {},
   "outputs": [],
   "source": [
    "# load \n",
    "data_path = '/Users/rowancassius/Desktop/capstone/data/context_task_trim.tsv'\n",
    "dat = pd.read_csv(data_path, sep='\\t')\n"
   ]
  },
  {
   "cell_type": "code",
   "execution_count": 7,
   "metadata": {},
   "outputs": [],
   "source": [
    "# test/train split\n",
    "x_train, x_test, y_train, y_test = train_test_split(\n",
    "    dat.TaskSentence.values, \n",
    "    dat.Summary.values,\n",
    "    test_size=0.2,\n",
    "    random_state=0,\n",
    "    shuffle=True\n",
    ")"
   ]
  },
  {
   "cell_type": "code",
   "execution_count": 10,
   "metadata": {},
   "outputs": [],
   "source": [
    "# fit tokenizer\n",
    "tokenizer = Tokenizer()\n",
    "tokenizer.fit_on_texts(list(x_train)+list(y_train))\n",
    "V = len(tokenizer.word_index)\n",
    "# tokenizer.sequences_to_texts(tokenizer.texts_to_sequences(texts=x_train))\n",
    "config.vocab_size = V"
   ]
  },
  {
   "cell_type": "code",
   "execution_count": 11,
   "metadata": {},
   "outputs": [],
   "source": [
    "# Make vocab file for the batcher\n",
    "with open('enron_vocab.txt', 'w') as f:\n",
    "    for w in tokenizer.word_index.items():\n",
    "        f.write(w[0] + ', ' + str(w[1]) +'\\n')"
   ]
  },
  {
   "cell_type": "code",
   "execution_count": 12,
   "metadata": {},
   "outputs": [],
   "source": [
    "# Make a data file for the generator\n",
    "with open('data_file.txt', 'w') as f:\n",
    "    for x,y in zip(x_train, y_train):\n",
    "        f.write(x +'\\t'+y+'\\n')"
   ]
  },
  {
   "cell_type": "code",
   "execution_count": 13,
   "metadata": {},
   "outputs": [
    {
     "name": "stdout",
     "output_type": "stream",
     "text": [
      "max_size of vocab was specified as 1546; we now have 1546 words. Stopping reading.\n",
      "Finished constructing vocabulary of 1546 total words. Last word added: loi,\n"
     ]
    }
   ],
   "source": [
    "enron_vocab = data.Vocab(vocab_file='enron_vocab.txt', max_size=V)\n",
    "data_file = 'data_file.txt'\n",
    "batch_size = 10\n",
    "mode = 'train'\n",
    "single_pass = True"
   ]
  },
  {
   "cell_type": "code",
   "execution_count": 15,
   "metadata": {},
   "outputs": [],
   "source": [
    "import data_util.batcher\n",
    "import data_util.batcher"
   ]
  },
  {
   "cell_type": "code",
   "execution_count": 17,
   "metadata": {},
   "outputs": [],
   "source": [
    "importlib.reload(data_util.batcher)\n",
    "importlib.reload(data_util.data)\n",
    "importlib.reload(train)\n",
    "from data_util import data\n",
    "from data_util import batcher"
   ]
  },
  {
   "cell_type": "code",
   "execution_count": 30,
   "metadata": {},
   "outputs": [
    {
     "name": "stdout",
     "output_type": "stream",
     "text": [
      "max_size of vocab was specified as 1546; we now have 1546 words. Stopping reading.\n",
      "Finished constructing vocabulary of 1546 total words. Last word added: loi,\n",
      "WATCH THREADS CALLED\n",
      "INFO:tensorflow:Bucket queue size: 5, Input queue size: 606\n"
     ]
    }
   ],
   "source": [
    "trainer = train.Train()"
   ]
  },
  {
   "cell_type": "code",
   "execution_count": 31,
   "metadata": {},
   "outputs": [
    {
     "name": "stdout",
     "output_type": "stream",
     "text": [
      "steps 2, seconds for 2 batch: 0.50 , loss: 7.716850\n",
      "steps 4, seconds for 2 batch: 0.48 , loss: 6.967154\n",
      "steps 6, seconds for 2 batch: 1.05 , loss: 1.666622\n",
      "steps 8, seconds for 2 batch: 0.66 , loss: 0.030270\n",
      "steps 10, seconds for 2 batch: 1.05 , loss: 0.004997\n",
      "steps 12, seconds for 2 batch: 0.50 , loss: 0.015989\n",
      "steps 14, seconds for 2 batch: 0.65 , loss: 0.003196\n",
      "steps 16, seconds for 2 batch: 1.24 , loss: 0.001755\n",
      "steps 18, seconds for 2 batch: 0.81 , loss: 0.003752\n",
      "steps 20, seconds for 2 batch: 0.51 , loss: 0.009774\n",
      "steps 22, seconds for 2 batch: 0.76 , loss: 0.003366\n",
      "steps 24, seconds for 2 batch: 0.29 , loss: 0.008802\n",
      "steps 26, seconds for 2 batch: 0.62 , loss: 0.002104\n",
      "steps 28, seconds for 2 batch: 0.39 , loss: 0.000590\n",
      "steps 30, seconds for 2 batch: 0.43 , loss: 0.001326\n",
      "steps 32, seconds for 2 batch: 0.59 , loss: 0.000678\n",
      "steps 34, seconds for 2 batch: 0.42 , loss: 0.001815\n",
      "steps 36, seconds for 2 batch: 0.63 , loss: 0.001080\n",
      "steps 38, seconds for 2 batch: 0.50 , loss: 0.006999\n",
      "steps 40, seconds for 2 batch: 0.52 , loss: 0.001738\n",
      "steps 42, seconds for 2 batch: 0.43 , loss: 0.000362\n",
      "steps 44, seconds for 2 batch: 0.45 , loss: 0.000491\n",
      "steps 46, seconds for 2 batch: 0.43 , loss: 0.000922\n",
      "steps 48, seconds for 2 batch: 0.60 , loss: 0.000720\n",
      "steps 50, seconds for 2 batch: 0.40 , loss: 0.004451\n",
      "steps 52, seconds for 2 batch: 0.41 , loss: 0.001151\n",
      "steps 54, seconds for 2 batch: 0.52 , loss: 0.000339\n",
      "steps 56, seconds for 2 batch: 0.54 , loss: 0.000340\n",
      "steps 58, seconds for 2 batch: 0.35 , loss: 0.004198\n",
      "steps 60, seconds for 2 batch: 0.41 , loss: 0.000512\n",
      "steps 62, seconds for 2 batch: 0.27 , loss: 0.003253\n",
      "steps 64, seconds for 2 batch: 0.49 , loss: 0.000088\n",
      "steps 66, seconds for 2 batch: 0.53 , loss: 0.000256\n",
      "INFO:tensorflow:Bucket queue size: 100, Input queue size: 3200\n",
      "steps 68, seconds for 2 batch: 0.50 , loss: 0.000611\n",
      "steps 70, seconds for 2 batch: 0.30 , loss: 0.003209\n",
      "steps 72, seconds for 2 batch: 0.53 , loss: 0.000195\n",
      "steps 74, seconds for 2 batch: 0.29 , loss: 0.002947\n",
      "steps 76, seconds for 2 batch: 0.39 , loss: 0.000608\n",
      "steps 78, seconds for 2 batch: 0.39 , loss: 0.000098\n",
      "steps 80, seconds for 2 batch: 0.38 , loss: 0.000439\n",
      "steps 82, seconds for 2 batch: 0.40 , loss: 0.000190\n",
      "steps 84, seconds for 2 batch: 0.41 , loss: 0.000627\n",
      "steps 86, seconds for 2 batch: 0.28 , loss: 0.000219\n",
      "steps 88, seconds for 2 batch: 0.50 , loss: 0.003057\n",
      "steps 90, seconds for 2 batch: 0.44 , loss: 0.000535\n",
      "steps 92, seconds for 2 batch: 0.44 , loss: 0.000118\n",
      "steps 94, seconds for 2 batch: 0.39 , loss: 0.000152\n",
      "steps 96, seconds for 2 batch: 0.35 , loss: 0.000600\n",
      "steps 98, seconds for 2 batch: 0.38 , loss: 0.000263\n",
      "steps 100, seconds for 2 batch: 0.33 , loss: 0.002356\n",
      "steps 102, seconds for 2 batch: 0.40 , loss: 0.000503\n",
      "steps 104, seconds for 2 batch: 0.35 , loss: 0.000057\n",
      "steps 106, seconds for 2 batch: 0.39 , loss: 0.000127\n",
      "steps 108, seconds for 2 batch: 0.33 , loss: 0.002223\n",
      "steps 110, seconds for 2 batch: 0.35 , loss: 0.000221\n",
      "steps 112, seconds for 2 batch: 0.34 , loss: 0.003978\n",
      "steps 114, seconds for 2 batch: 0.42 , loss: 0.000105\n",
      "steps 116, seconds for 2 batch: 0.52 , loss: 0.000090\n",
      "steps 118, seconds for 2 batch: 0.46 , loss: 0.000277\n",
      "steps 120, seconds for 2 batch: 0.34 , loss: 0.001877\n",
      "steps 122, seconds for 2 batch: 0.41 , loss: 0.000144\n",
      "steps 124, seconds for 2 batch: 0.28 , loss: 0.001776\n",
      "steps 126, seconds for 2 batch: 0.41 , loss: 0.000317\n",
      "steps 128, seconds for 2 batch: 0.49 , loss: 0.000080\n",
      "steps 130, seconds for 2 batch: 0.50 , loss: 0.000168\n",
      "steps 132, seconds for 2 batch: 0.54 , loss: 0.001568\n",
      "steps 134, seconds for 2 batch: 0.62 , loss: 0.000349\n",
      "steps 136, seconds for 2 batch: 0.26 , loss: 0.000111\n",
      "steps 138, seconds for 2 batch: 0.38 , loss: 0.000300\n",
      "steps 140, seconds for 2 batch: 0.55 , loss: 0.000307\n",
      "steps 142, seconds for 2 batch: 0.45 , loss: 0.000073\n",
      "steps 144, seconds for 2 batch: 0.48 , loss: 0.000068\n"
     ]
    },
    {
     "ename": "KeyboardInterrupt",
     "evalue": "",
     "output_type": "error",
     "traceback": [
      "\u001b[0;31m---------------------------------------------------------------------------\u001b[0m",
      "\u001b[0;31mKeyboardInterrupt\u001b[0m                         Traceback (most recent call last)",
      "\u001b[0;32m<ipython-input-31-fffa89c4e7dc>\u001b[0m in \u001b[0;36m<module>\u001b[0;34m\u001b[0m\n\u001b[1;32m      1\u001b[0m trainer.trainIters(\n\u001b[0;32m----> 2\u001b[0;31m     n_iters = 1000)\n\u001b[0m\u001b[1;32m      3\u001b[0m \u001b[0;31m#     model_file_path='/Users/rowancassius/Desktop/pointer_summarizer-master/training_ptr_gen/model_path')\u001b[0m\u001b[0;34m\u001b[0m\u001b[0;34m\u001b[0m\u001b[0;34m\u001b[0m\u001b[0m\n",
      "\u001b[0;32m~/Desktop/pointer_summarizer-master/training_ptr_gen/train.py\u001b[0m in \u001b[0;36mtrainIters\u001b[0;34m(self, n_iters, model_file_path)\u001b[0m\n\u001b[1;32m    127\u001b[0m         \u001b[0;32mwhile\u001b[0m \u001b[0miter\u001b[0m \u001b[0;34m<\u001b[0m \u001b[0mn_iters\u001b[0m\u001b[0;34m:\u001b[0m\u001b[0;34m\u001b[0m\u001b[0;34m\u001b[0m\u001b[0m\n\u001b[1;32m    128\u001b[0m             \u001b[0mbatch\u001b[0m \u001b[0;34m=\u001b[0m \u001b[0mself\u001b[0m\u001b[0;34m.\u001b[0m\u001b[0mbatcher\u001b[0m\u001b[0;34m.\u001b[0m\u001b[0mnext_batch\u001b[0m\u001b[0;34m(\u001b[0m\u001b[0;34m)\u001b[0m\u001b[0;34m\u001b[0m\u001b[0;34m\u001b[0m\u001b[0m\n\u001b[0;32m--> 129\u001b[0;31m             \u001b[0mloss\u001b[0m \u001b[0;34m=\u001b[0m \u001b[0mself\u001b[0m\u001b[0;34m.\u001b[0m\u001b[0mtrain_one_batch\u001b[0m\u001b[0;34m(\u001b[0m\u001b[0mbatch\u001b[0m\u001b[0;34m)\u001b[0m\u001b[0;34m\u001b[0m\u001b[0;34m\u001b[0m\u001b[0m\n\u001b[0m\u001b[1;32m    130\u001b[0m \u001b[0;34m\u001b[0m\u001b[0m\n\u001b[1;32m    131\u001b[0m             \u001b[0mrunning_avg_loss\u001b[0m \u001b[0;34m=\u001b[0m \u001b[0mcalc_running_avg_loss\u001b[0m\u001b[0;34m(\u001b[0m\u001b[0mloss\u001b[0m\u001b[0;34m,\u001b[0m \u001b[0mrunning_avg_loss\u001b[0m\u001b[0;34m,\u001b[0m \u001b[0mself\u001b[0m\u001b[0;34m.\u001b[0m\u001b[0msummary_writer\u001b[0m\u001b[0;34m,\u001b[0m \u001b[0miter\u001b[0m\u001b[0;34m)\u001b[0m\u001b[0;34m\u001b[0m\u001b[0;34m\u001b[0m\u001b[0m\n",
      "\u001b[0;32m~/Desktop/pointer_summarizer-master/training_ptr_gen/train.py\u001b[0m in \u001b[0;36mtrain_one_batch\u001b[0;34m(self, batch)\u001b[0m\n\u001b[1;32m    111\u001b[0m         \u001b[0mloss\u001b[0m \u001b[0;34m=\u001b[0m \u001b[0mtorch\u001b[0m\u001b[0;34m.\u001b[0m\u001b[0mmean\u001b[0m\u001b[0;34m(\u001b[0m\u001b[0mbatch_avg_loss\u001b[0m\u001b[0;34m)\u001b[0m\u001b[0;34m\u001b[0m\u001b[0;34m\u001b[0m\u001b[0m\n\u001b[1;32m    112\u001b[0m \u001b[0;34m\u001b[0m\u001b[0m\n\u001b[0;32m--> 113\u001b[0;31m         \u001b[0mloss\u001b[0m\u001b[0;34m.\u001b[0m\u001b[0mbackward\u001b[0m\u001b[0;34m(\u001b[0m\u001b[0;34m)\u001b[0m\u001b[0;34m\u001b[0m\u001b[0;34m\u001b[0m\u001b[0m\n\u001b[0m\u001b[1;32m    114\u001b[0m \u001b[0;34m\u001b[0m\u001b[0m\n\u001b[1;32m    115\u001b[0m         \u001b[0mself\u001b[0m\u001b[0;34m.\u001b[0m\u001b[0mnorm\u001b[0m \u001b[0;34m=\u001b[0m \u001b[0mclip_grad_norm_\u001b[0m\u001b[0;34m(\u001b[0m\u001b[0mself\u001b[0m\u001b[0;34m.\u001b[0m\u001b[0mmodel\u001b[0m\u001b[0;34m.\u001b[0m\u001b[0mencoder\u001b[0m\u001b[0;34m.\u001b[0m\u001b[0mparameters\u001b[0m\u001b[0;34m(\u001b[0m\u001b[0;34m)\u001b[0m\u001b[0;34m,\u001b[0m \u001b[0mconfig\u001b[0m\u001b[0;34m.\u001b[0m\u001b[0mmax_grad_norm\u001b[0m\u001b[0;34m)\u001b[0m\u001b[0;34m\u001b[0m\u001b[0;34m\u001b[0m\u001b[0m\n",
      "\u001b[0;32m~/opt/anaconda3/lib/python3.7/site-packages/torch/tensor.py\u001b[0m in \u001b[0;36mbackward\u001b[0;34m(self, gradient, retain_graph, create_graph)\u001b[0m\n\u001b[1;32m    196\u001b[0m                 \u001b[0mproducts\u001b[0m\u001b[0;34m.\u001b[0m \u001b[0mDefaults\u001b[0m \u001b[0mto\u001b[0m\u001b[0;31m \u001b[0m\u001b[0;31m`\u001b[0m\u001b[0;31m`\u001b[0m\u001b[0;32mFalse\u001b[0m\u001b[0;31m`\u001b[0m\u001b[0;31m`\u001b[0m\u001b[0;34m.\u001b[0m\u001b[0;34m\u001b[0m\u001b[0;34m\u001b[0m\u001b[0m\n\u001b[1;32m    197\u001b[0m         \"\"\"\n\u001b[0;32m--> 198\u001b[0;31m         \u001b[0mtorch\u001b[0m\u001b[0;34m.\u001b[0m\u001b[0mautograd\u001b[0m\u001b[0;34m.\u001b[0m\u001b[0mbackward\u001b[0m\u001b[0;34m(\u001b[0m\u001b[0mself\u001b[0m\u001b[0;34m,\u001b[0m \u001b[0mgradient\u001b[0m\u001b[0;34m,\u001b[0m \u001b[0mretain_graph\u001b[0m\u001b[0;34m,\u001b[0m \u001b[0mcreate_graph\u001b[0m\u001b[0;34m)\u001b[0m\u001b[0;34m\u001b[0m\u001b[0;34m\u001b[0m\u001b[0m\n\u001b[0m\u001b[1;32m    199\u001b[0m \u001b[0;34m\u001b[0m\u001b[0m\n\u001b[1;32m    200\u001b[0m     \u001b[0;32mdef\u001b[0m \u001b[0mregister_hook\u001b[0m\u001b[0;34m(\u001b[0m\u001b[0mself\u001b[0m\u001b[0;34m,\u001b[0m \u001b[0mhook\u001b[0m\u001b[0;34m)\u001b[0m\u001b[0;34m:\u001b[0m\u001b[0;34m\u001b[0m\u001b[0;34m\u001b[0m\u001b[0m\n",
      "\u001b[0;32m~/opt/anaconda3/lib/python3.7/site-packages/torch/autograd/__init__.py\u001b[0m in \u001b[0;36mbackward\u001b[0;34m(tensors, grad_tensors, retain_graph, create_graph, grad_variables)\u001b[0m\n\u001b[1;32m     98\u001b[0m     Variable._execution_engine.run_backward(\n\u001b[1;32m     99\u001b[0m         \u001b[0mtensors\u001b[0m\u001b[0;34m,\u001b[0m \u001b[0mgrad_tensors\u001b[0m\u001b[0;34m,\u001b[0m \u001b[0mretain_graph\u001b[0m\u001b[0;34m,\u001b[0m \u001b[0mcreate_graph\u001b[0m\u001b[0;34m,\u001b[0m\u001b[0;34m\u001b[0m\u001b[0;34m\u001b[0m\u001b[0m\n\u001b[0;32m--> 100\u001b[0;31m         allow_unreachable=True)  # allow_unreachable flag\n\u001b[0m\u001b[1;32m    101\u001b[0m \u001b[0;34m\u001b[0m\u001b[0m\n\u001b[1;32m    102\u001b[0m \u001b[0;34m\u001b[0m\u001b[0m\n",
      "\u001b[0;31mKeyboardInterrupt\u001b[0m: "
     ]
    }
   ],
   "source": [
    "trainer.trainIters(\n",
    "    n_iters = 1000)\n",
    "#     model_file_path='/Users/rowancassius/Desktop/pointer_summarizer-master/training_ptr_gen/model_path')"
   ]
  },
  {
   "cell_type": "code",
   "execution_count": null,
   "metadata": {},
   "outputs": [],
   "source": [
    "from training_ptr_gen import decode\n",
    "importlib.reload(decode)"
   ]
  },
  {
   "cell_type": "code",
   "execution_count": null,
   "metadata": {},
   "outputs": [],
   "source": [
    "# config.log_root"
   ]
  },
  {
   "cell_type": "code",
   "execution_count": 25,
   "metadata": {},
   "outputs": [],
   "source": [
    "model_file_path = \"/Users/rowancassius/Desktop/pointer_summarizer-master/training_ptr_gen/train_1591984135/model/model_900_1591984331\""
   ]
  },
  {
   "cell_type": "code",
   "execution_count": 23,
   "metadata": {},
   "outputs": [],
   "source": [
    "decode_data_path = \"/Users/rowancassius/Desktop/pointer_summarizer-master/training_ptr_gen/data_file.txt\""
   ]
  },
  {
   "cell_type": "code",
   "execution_count": null,
   "metadata": {},
   "outputs": [],
   "source": []
  },
  {
   "cell_type": "code",
   "execution_count": 26,
   "metadata": {},
   "outputs": [
    {
     "name": "stdout",
     "output_type": "stream",
     "text": [
      "max_size of vocab was specified as 1546; we now have 1546 words. Stopping reading.\n",
      "Finished constructing vocabulary of 1546 total words. Last word added: loi,\n",
      "example_generator completed reading all datafiles. No more data.\n"
     ]
    },
    {
     "name": "stderr",
     "output_type": "stream",
     "text": [
      "Exception in thread Thread-9:\n",
      "Traceback (most recent call last):\n",
      "  File \"/Users/rowancassius/Desktop/pointer_summarizer-master/data_util/batcher.py\", line 275, in text_generator\n",
      "    try:\n",
      "StopIteration\n",
      "\n",
      "The above exception was the direct cause of the following exception:\n",
      "\n",
      "Traceback (most recent call last):\n",
      "  File \"/Users/rowancassius/opt/anaconda3/lib/python3.7/threading.py\", line 926, in _bootstrap_inner\n",
      "    self.run()\n",
      "  File \"/Users/rowancassius/opt/anaconda3/lib/python3.7/threading.py\", line 870, in run\n",
      "    self._target(*self._args, **self._kwargs)\n",
      "  File \"/Users/rowancassius/Desktop/pointer_summarizer-master/data_util/batcher.py\", line 212, in fill_example_queue\n",
      "    (article, abstract) = next(input_gen) # read the next example from file. article and abstract are both strings.\n",
      "RuntimeError: generator raised StopIteration\n",
      "\n"
     ]
    }
   ],
   "source": [
    "bs = decode.BeamSearch(model_file_path)"
   ]
  },
  {
   "cell_type": "code",
   "execution_count": 27,
   "metadata": {},
   "outputs": [
    {
     "name": "stdout",
     "output_type": "stream",
     "text": [
      "INFO:tensorflow:Finished reading dataset in single_pass mode.\n"
     ]
    }
   ],
   "source": [
    "summaries = bs.decode()"
   ]
  },
  {
   "cell_type": "code",
   "execution_count": 29,
   "metadata": {},
   "outputs": [
    {
     "data": {
      "text/plain": [
       "350"
      ]
     },
     "execution_count": 29,
     "metadata": {},
     "output_type": "execute_result"
    },
    {
     "name": "stdout",
     "output_type": "stream",
     "text": [
      "INFO:tensorflow:Bucket queue size: 100, Input queue size: 3200\n",
      "INFO:tensorflow:Bucket queue size: 100, Input queue size: 3200\n",
      "INFO:tensorflow:Bucket queue size: 100, Input queue size: 3200\n",
      "INFO:tensorflow:Bucket queue size: 100, Input queue size: 3200\n",
      "INFO:tensorflow:Bucket queue size: 100, Input queue size: 3200\n"
     ]
    }
   ],
   "source": [
    "len(summaries)"
   ]
  },
  {
   "cell_type": "code",
   "execution_count": null,
   "metadata": {},
   "outputs": [],
   "source": [
    "b = bs.batcher.next_batch()"
   ]
  },
  {
   "cell_type": "code",
   "execution_count": null,
   "metadata": {},
   "outputs": [],
   "source": []
  },
  {
   "cell_type": "code",
   "execution_count": null,
   "metadata": {},
   "outputs": [],
   "source": [
    "def simpleGeneratorFun():\n",
    "    yield 1\n",
    "    yield 2\n",
    "    yield 3\n",
    "for value in simpleGeneratorFun():\n",
    "    print(value)"
   ]
  },
  {
   "cell_type": "code",
   "execution_count": null,
   "metadata": {},
   "outputs": [],
   "source": []
  }
 ],
 "metadata": {
  "kernelspec": {
   "display_name": "Python 3",
   "language": "python",
   "name": "python3"
  },
  "language_info": {
   "codemirror_mode": {
    "name": "ipython",
    "version": 3
   },
   "file_extension": ".py",
   "mimetype": "text/x-python",
   "name": "python",
   "nbconvert_exporter": "python",
   "pygments_lexer": "ipython3",
   "version": "3.7.4"
  }
 },
 "nbformat": 4,
 "nbformat_minor": 2
}

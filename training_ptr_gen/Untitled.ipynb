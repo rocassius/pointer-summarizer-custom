{
 "cells": [
  {
   "cell_type": "code",
   "execution_count": null,
   "metadata": {},
   "outputs": [],
   "source": [
    "\n",
    "from training_ptr_gen.train import *\n",
    "from training_ptr_gen.model import *"
   ]
  },
  {
   "cell_type": "code",
   "execution_count": null,
   "metadata": {},
   "outputs": [],
   "source": [
    "import numpy as np\n",
    "import pandas as pd\n",
    "from sklearn.model_selection import train_test_split\n",
    "\n",
    "import tensorflow as tf\n",
    "import tensorflow.keras.backend as K\n",
    "\n",
    "from keras.preprocessing.text import Tokenizer\n",
    "from keras.preprocessing.sequence import pad_sequences\n",
    "\n",
    "from flair.embeddings import WordEmbeddings"
   ]
  },
  {
   "cell_type": "code",
   "execution_count": null,
   "metadata": {},
   "outputs": [],
   "source": [
    "# load \n",
    "data_path = '/Users/rowancassius/Desktop/capstone/data/context_task_trim.tsv'\n",
    "data = pd.read_csv(data_path, sep='\\t')\n",
    "\n",
    "# Add start and end tokens\n",
    "BOS, EOS, OOV, PAD = '_start_', '_end_', '_unk_', '_pad_'\n",
    "data.Summary = BOS + ' ' + data.Summary + ' ' + EOS"
   ]
  },
  {
   "cell_type": "code",
   "execution_count": null,
   "metadata": {},
   "outputs": [],
   "source": [
    "# test/train split\n",
    "x_train, x_test, y_train, y_test = train_test_split(\n",
    "    data.TaskSentence.values, \n",
    "    data.Summary.values,\n",
    "    test_size=0.2,\n",
    "    random_state=0,\n",
    "    shuffle=True\n",
    ")"
   ]
  },
  {
   "cell_type": "code",
   "execution_count": null,
   "metadata": {},
   "outputs": [],
   "source": [
    "# fit tokenizer\n",
    "MAXLEN = 20\n",
    "\n",
    "tokenizer = Tokenizer(filters='', lower=True, oov_token = OOV)\n",
    "tokenizer.fit_on_texts(list(x_train)+list(y_train))\n",
    "\n",
    "x = tokenizer.texts_to_sequences(x_train)\n",
    "y = tokenizer.texts_to_sequences(y_train)\n",
    "\n",
    "x_pad = pad_sequences(x, maxlen=MAXLEN, padding='post')\n",
    "y_pad = pad_sequences(y, maxlen=MAXLEN, padding='post')\n",
    "\n",
    "x_val = pad_sequences(\n",
    "    tokenizer.texts_to_sequences(x_test), \n",
    "    maxlen=MAXLEN, \n",
    "    padding='post')\n",
    "\n",
    "y_val = pad_sequences(\n",
    "    tokenizer.texts_to_sequences(y_test), \n",
    "    maxlen=MAXLEN, \n",
    "    padding='post')\n",
    "\n",
    "V = len(tokenizer.word_index) + 1"
   ]
  }
 ],
 "metadata": {
  "kernelspec": {
   "display_name": "Python 3",
   "language": "python",
   "name": "python3"
  },
  "language_info": {
   "codemirror_mode": {
    "name": "ipython",
    "version": 3
   },
   "file_extension": ".py",
   "mimetype": "text/x-python",
   "name": "python",
   "nbconvert_exporter": "python",
   "pygments_lexer": "ipython3",
   "version": "3.7.4"
  }
 },
 "nbformat": 4,
 "nbformat_minor": 2
}
